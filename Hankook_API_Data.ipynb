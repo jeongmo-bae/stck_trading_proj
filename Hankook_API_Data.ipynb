{
 "cells": [
  {
   "cell_type": "code",
   "execution_count": 5,
   "metadata": {},
   "outputs": [],
   "source": [
    "import requests\n",
    "import json\n",
    "import sys\n",
    "sys.path.append(\"../\")\n",
    "from module.authAPI import *\n",
    "\n",
    "aif = appInfo()"
   ]
  },
  {
   "cell_type": "code",
   "execution_count": 6,
   "metadata": {},
   "outputs": [
    {
     "ename": "KeyError",
     "evalue": "'access_token_token_expired'",
     "output_type": "error",
     "traceback": [
      "\u001b[0;31m---------------------------------------------------------------------------\u001b[0m",
      "\u001b[0;31mKeyError\u001b[0m                                  Traceback (most recent call last)",
      "Cell \u001b[0;32mIn[6], line 1\u001b[0m\n\u001b[0;32m----> 1\u001b[0m accessToken \u001b[38;5;241m=\u001b[39m \u001b[43mget_Access_Token\u001b[49m\u001b[43m(\u001b[49m\u001b[43maid\u001b[49m\u001b[38;5;241;43m.\u001b[39;49m\u001b[43mAPP_KEY_T\u001b[49m\u001b[43m,\u001b[49m\u001b[43m \u001b[49m\u001b[43maid\u001b[49m\u001b[38;5;241;43m.\u001b[39;49m\u001b[43mAPP_SECRET_T\u001b[49m\u001b[43m,\u001b[49m\u001b[43maid\u001b[49m\u001b[38;5;241;43m.\u001b[39;49m\u001b[43mURL_BASE_T\u001b[49m\u001b[43m)\u001b[49m\n\u001b[1;32m      2\u001b[0m accessToken\n",
      "File \u001b[0;32m~/VSCodeLib/stockProj/work/../GetTokenHash.py:15\u001b[0m, in \u001b[0;36mget_Access_Token\u001b[0;34m(appKey, appSecret, urlBase)\u001b[0m\n\u001b[1;32m     13\u001b[0m \u001b[38;5;66;03m# access_token(보안인증키) POST(request)\u001b[39;00m\n\u001b[1;32m     14\u001b[0m res \u001b[38;5;241m=\u001b[39m requests\u001b[38;5;241m.\u001b[39mpost(URL, headers\u001b[38;5;241m=\u001b[39mheaders, data\u001b[38;5;241m=\u001b[39mjson\u001b[38;5;241m.\u001b[39mdumps(body))\n\u001b[0;32m---> 15\u001b[0m \u001b[38;5;28mprint\u001b[39m(\u001b[38;5;124m\"\u001b[39m\u001b[38;5;124maccess_token_token_expired =\u001b[39m\u001b[38;5;124m\"\u001b[39m, \u001b[43mres\u001b[49m\u001b[38;5;241;43m.\u001b[39;49m\u001b[43mjson\u001b[49m\u001b[43m(\u001b[49m\u001b[43m)\u001b[49m\u001b[43m[\u001b[49m\u001b[38;5;124;43m'\u001b[39;49m\u001b[38;5;124;43maccess_token_token_expired\u001b[39;49m\u001b[38;5;124;43m'\u001b[39;49m\u001b[43m]\u001b[49m)\n\u001b[1;32m     16\u001b[0m \u001b[38;5;66;03m# token 값 저장\u001b[39;00m\n\u001b[1;32m     17\u001b[0m accessToken \u001b[38;5;241m=\u001b[39m res\u001b[38;5;241m.\u001b[39mjson()[\u001b[38;5;124m\"\u001b[39m\u001b[38;5;124maccess_token\u001b[39m\u001b[38;5;124m\"\u001b[39m]\n",
      "\u001b[0;31mKeyError\u001b[0m: 'access_token_token_expired'"
     ]
    }
   ],
   "source": [
    "accessToken = aif.get_Access_Token(aif.APP_KEY_M, aif.APP_SECRET_M,aif.URL_BASE_M)\n",
    "accessToken"
   ]
  },
  {
   "attachments": {},
   "cell_type": "markdown",
   "metadata": {},
   "source": [
    "# 1.종목정보 (종목DB 구성부터 시작)"
   ]
  },
  {
   "cell_type": "code",
   "execution_count": 19,
   "metadata": {},
   "outputs": [
    {
     "data": {
      "text/plain": [
       "{'output': {'pdno': '00000A000660',\n",
       "  'prdt_type_cd': '300',\n",
       "  'prdt_name': '에스케이하이닉스보통주',\n",
       "  'prdt_name120': '에스케이하이닉스보통주',\n",
       "  'prdt_abrv_name': 'SK하이닉스',\n",
       "  'prdt_eng_name': 'SK hynix',\n",
       "  'prdt_eng_name120': 'SK hynix',\n",
       "  'prdt_eng_abrv_name': 'SK hynix',\n",
       "  'std_pdno': 'KR7000660001',\n",
       "  'shtn_pdno': '000660',\n",
       "  'prdt_sale_stat_cd': '',\n",
       "  'prdt_risk_grad_cd': '',\n",
       "  'prdt_clsf_cd': '101010',\n",
       "  'prdt_clsf_name': '주권',\n",
       "  'sale_strt_dt': '',\n",
       "  'sale_end_dt': '',\n",
       "  'wrap_asst_type_cd': '01',\n",
       "  'ivst_prdt_type_cd': '1010',\n",
       "  'ivst_prdt_type_cd_name': '주식',\n",
       "  'frst_erlm_dt': ''},\n",
       " 'rt_cd': '0',\n",
       " 'msg_cd': 'KIOK0530',\n",
       " 'msg1': '조회되었습니다                                                                  '}"
      ]
     },
     "execution_count": 19,
     "metadata": {},
     "output_type": "execute_result"
    }
   ],
   "source": [
    "\n",
    "PATH = \"/uapi/domestic-stock/v1/quotations/search-info\"\n",
    "URL = f\"{aif.URL_BASE_T}/{PATH}\"\n",
    "\n",
    "headers = {\"Content-Type\":\"application/json\", \n",
    "           \"authorization\": f\"Bearer {accessToken}\",\n",
    "           \"appKey\":aif.APP_KEY_M,\n",
    "           \"appSecret\":aif.APP_SECRET_M,\n",
    "           \"tr_id\":\"CTPF1604R\" ,\n",
    "           \"custtype\" : \"P\"\n",
    "           }\n",
    "params = {\n",
    "    \"PDNO\" : '000660',\n",
    "    \"PRDT_TYPE_CD\":\"300\"\n",
    "}\n",
    "\n",
    "res = requests.get(URL, headers=headers, params=params)\n",
    "res.json()\n",
    "#res.json()['output']\n",
    "\n",
    "\n",
    "### 더 이상 접근 토큰이 필요없을경우 폐기\n",
    "#revoke_Access_Token(aid.APP_KEY_M, aid.APP_SECRET_M,accessToken , aid.URL_BASE_M)"
   ]
  },
  {
   "attachments": {},
   "cell_type": "markdown",
   "metadata": {},
   "source": [
    "# 2. 종목별 현재가"
   ]
  },
  {
   "cell_type": "code",
   "execution_count": null,
   "metadata": {},
   "outputs": [],
   "source": []
  },
  {
   "cell_type": "code",
   "execution_count": null,
   "metadata": {},
   "outputs": [],
   "source": []
  },
  {
   "attachments": {},
   "cell_type": "markdown",
   "metadata": {},
   "source": [
    "# 해쉬키 사용예제"
   ]
  },
  {
   "cell_type": "code",
   "execution_count": 6,
   "metadata": {},
   "outputs": [
    {
     "data": {
      "text/plain": [
       "'0c931d2df220be54662a1cd78f17bb1fc0c2d85cd2ed97feaff78b1b6325d909'"
      ]
     },
     "execution_count": 6,
     "metadata": {},
     "output_type": "execute_result"
    }
   ],
   "source": [
    "# POST 시 해쉬키 필요 --> POST data input에 사용!!!   이건 나중에!!!  매수/매도 필요할 듯??\n",
    "datas = {\n",
    "    \"CANO\": '00000000',\n",
    "    \"ACNT_PRDT_CD\": \"01\",\n",
    "    \"OVRS_EXCG_CD\": \"SHAA\",\n",
    "    \"PDNO\": \"00001\",\n",
    "    \"ORD_QTY\": \"500\",\n",
    "    \"OVRS_ORD_UNPR\": \"52.65\",\n",
    "    \"ORD_SVR_DVSN_CD\": \"0\"\n",
    "}\n",
    "hashkey = aif.get_Hashkey(datas,aif.APP_KEY_M,aif.APP_SECRET_M,aif.URL_BASE_M)\n",
    "hashkey"
   ]
  }
 ],
 "metadata": {
  "kernelspec": {
   "display_name": "base",
   "language": "python",
   "name": "python3"
  },
  "language_info": {
   "codemirror_mode": {
    "name": "ipython",
    "version": 3
   },
   "file_extension": ".py",
   "mimetype": "text/x-python",
   "name": "python",
   "nbconvert_exporter": "python",
   "pygments_lexer": "ipython3",
   "version": "3.8.19"
  },
  "orig_nbformat": 4,
  "vscode": {
   "interpreter": {
    "hash": "1215799da2cb5f301bb5ec745dada0bd94091dd2113be4c942f8b3538ad8eb30"
   }
  }
 },
 "nbformat": 4,
 "nbformat_minor": 2
}
